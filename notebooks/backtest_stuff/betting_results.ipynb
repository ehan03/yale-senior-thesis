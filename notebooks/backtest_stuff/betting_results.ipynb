{
 "cells": [
  {
   "cell_type": "code",
   "execution_count": 36,
   "metadata": {},
   "outputs": [],
   "source": [
    "import numpy as np\n",
    "import pandas as pd\n",
    "import matplotlib.pyplot as plt\n",
    "import seaborn as sns\n",
    "\n",
    "sns.set_theme(style=\"darkgrid\", context=\"paper\")"
   ]
  },
  {
   "cell_type": "code",
   "execution_count": 37,
   "metadata": {},
   "outputs": [],
   "source": [
    "# backtest_odds = pd.read_csv(\"../../data/backtesting/backtest_odds.csv\")\n",
    "# backtest_actual = pd.read_csv(\"../../model_files/lr/backtest_actual_simultaneous_0.1.csv\")\n",
    "# backtest_mc = pd.read_csv(\"../../model_files/lr/backtest_mc_simultaneous_0.1.csv\")\n",
    "\n",
    "backtest_odds = pd.read_csv(\"../../data/backtesting/backtest_odds_case_study.csv\")\n",
    "backtest_actual = pd.read_csv(\"../../model_files/lr/case_study/backtest_actual_simultaneous_0.25.csv\")\n",
    "backtest_mc = pd.read_csv(\"../../model_files/lr/case_study/backtest_mc_simultaneous_0.25.csv\")"
   ]
  },
  {
   "cell_type": "code",
   "execution_count": 38,
   "metadata": {},
   "outputs": [
    {
     "data": {
      "image/png": "[encoded data removed]",
      "text/plain": [
       "<Figure size 1000x400 with 1 Axes>"
      ]
     },
     "metadata": {},
     "output_type": "display_data"
    }
   ],
   "source": [
    "fig, ax = plt.subplots(figsize=(10, 4))  # Adjust the figure size as needed\n",
    "simulated_pnl = backtest_mc.drop(columns=[\"event_id\"]).iloc[-1] - 1000\n",
    "# simulated_pnl.hist(bins=100, ax=ax)\n",
    "ax = sns.histplot(\n",
    "    simulated_pnl,\n",
    "    bins=100,\n",
    "    # color=\"blue\",\n",
    "    ax=ax,\n",
    "    stat=\"count\",\n",
    "    label=\"Simulated\",\n",
    "    alpha=0.6\n",
    ")\n",
    "ax.set(xlabel=\"Profit ($)\")\n",
    "\n",
    "actual_pnl = backtest_actual[\"bankroll\"].iloc[-1] - 1000\n",
    "ax.axvline(actual_pnl, color='red', linestyle='dashed', linewidth=2, label=\"Observed\")\n",
    "# ax.axvline(actual_pnl, color='red', linestyle='dashed', linewidth=1)\n",
    "plt.legend()\n",
    "plt.show()"
   ]
  },
  {
   "cell_type": "code",
   "execution_count": 39,
   "metadata": {},
   "outputs": [
    {
     "name": "stdout",
     "output_type": "stream",
     "text": [
      "p-value: 0.0012\n"
     ]
    }
   ],
   "source": [
    "num_geq = np.count_nonzero(simulated_pnl >= actual_pnl)\n",
    "p_value = (num_geq + 1) / (len(simulated_pnl) + 1)\n",
    "adj_p_value = p_value * 12\n",
    "print(f\"p-value: {adj_p_value:.4f}\")"
   ]
  },
  {
   "cell_type": "code",
   "execution_count": 40,
   "metadata": {},
   "outputs": [
    {
     "name": "stdout",
     "output_type": "stream",
     "text": [
      "p-value: 0.0001\n"
     ]
    }
   ],
   "source": [
    "print(f\"p-value: {p_value:.4f}\")"
   ]
  },
  {
   "cell_type": "code",
   "execution_count": 41,
   "metadata": {},
   "outputs": [
    {
     "data": {
      "text/html": [
       "<div>\n",
       "<style scoped>\n",
       "    .dataframe tbody tr th:only-of-type {\n",
       "        vertical-align: middle;\n",
       "    }\n",
       "\n",
       "    .dataframe tbody tr th {\n",
       "        vertical-align: top;\n",
       "    }\n",
       "\n",
       "    .dataframe thead th {\n",
       "        text-align: right;\n",
       "    }\n",
       "</style>\n",
       "<table border=\"1\" class=\"dataframe\">\n",
       "  <thead>\n",
       "    <tr style=\"text-align: right;\">\n",
       "      <th></th>\n",
       "      <th>event_id</th>\n",
       "      <th>bankroll</th>\n",
       "      <th>cumulative_bets</th>\n",
       "      <th>cumulative_wagered</th>\n",
       "      <th>cumulative_return</th>\n",
       "    </tr>\n",
       "  </thead>\n",
       "  <tbody>\n",
       "    <tr>\n",
       "      <th>0</th>\n",
       "      <td>46effbd1135423c5</td>\n",
       "      <td>946.49</td>\n",
       "      <td>3</td>\n",
       "      <td>53.51</td>\n",
       "      <td>0.00</td>\n",
       "    </tr>\n",
       "    <tr>\n",
       "      <th>1</th>\n",
       "      <td>4512e46543b960ad</td>\n",
       "      <td>988.32</td>\n",
       "      <td>5</td>\n",
       "      <td>116.23</td>\n",
       "      <td>104.55</td>\n",
       "    </tr>\n",
       "    <tr>\n",
       "      <th>2</th>\n",
       "      <td>6a8a06b542e1516d</td>\n",
       "      <td>916.56</td>\n",
       "      <td>8</td>\n",
       "      <td>204.46</td>\n",
       "      <td>121.02</td>\n",
       "    </tr>\n",
       "    <tr>\n",
       "      <th>3</th>\n",
       "      <td>865aa315ea62c511</td>\n",
       "      <td>845.48</td>\n",
       "      <td>15</td>\n",
       "      <td>286.12</td>\n",
       "      <td>131.60</td>\n",
       "    </tr>\n",
       "    <tr>\n",
       "      <th>4</th>\n",
       "      <td>b4ad3a06ee4d660c</td>\n",
       "      <td>844.17</td>\n",
       "      <td>16</td>\n",
       "      <td>287.43</td>\n",
       "      <td>131.60</td>\n",
       "    </tr>\n",
       "    <tr>\n",
       "      <th>...</th>\n",
       "      <td>...</td>\n",
       "      <td>...</td>\n",
       "      <td>...</td>\n",
       "      <td>...</td>\n",
       "      <td>...</td>\n",
       "    </tr>\n",
       "    <tr>\n",
       "      <th>326</th>\n",
       "      <td>585f9ffdb0cd0466</td>\n",
       "      <td>47024.77</td>\n",
       "      <td>961</td>\n",
       "      <td>374614.20</td>\n",
       "      <td>420638.97</td>\n",
       "    </tr>\n",
       "    <tr>\n",
       "      <th>327</th>\n",
       "      <td>daff32bc96d1eabf</td>\n",
       "      <td>58099.84</td>\n",
       "      <td>963</td>\n",
       "      <td>381754.00</td>\n",
       "      <td>438853.84</td>\n",
       "    </tr>\n",
       "    <tr>\n",
       "      <th>328</th>\n",
       "      <td>e955046551f8c7dd</td>\n",
       "      <td>54678.37</td>\n",
       "      <td>965</td>\n",
       "      <td>385175.47</td>\n",
       "      <td>438853.84</td>\n",
       "    </tr>\n",
       "    <tr>\n",
       "      <th>329</th>\n",
       "      <td>ad23903ef3af7406</td>\n",
       "      <td>50883.22</td>\n",
       "      <td>971</td>\n",
       "      <td>389844.88</td>\n",
       "      <td>439728.10</td>\n",
       "    </tr>\n",
       "    <tr>\n",
       "      <th>330</th>\n",
       "      <td>72c9c2eadfc3277e</td>\n",
       "      <td>44830.51</td>\n",
       "      <td>976</td>\n",
       "      <td>395897.59</td>\n",
       "      <td>439728.10</td>\n",
       "    </tr>\n",
       "  </tbody>\n",
       "</table>\n",
       "<p>331 rows × 5 columns</p>\n",
       "</div>"
      ],
      "text/plain": [
       "             event_id  bankroll  cumulative_bets  cumulative_wagered  \\\n",
       "0    46effbd1135423c5    946.49                3               53.51   \n",
       "1    4512e46543b960ad    988.32                5              116.23   \n",
       "2    6a8a06b542e1516d    916.56                8              204.46   \n",
       "3    865aa315ea62c511    845.48               15              286.12   \n",
       "4    b4ad3a06ee4d660c    844.17               16              287.43   \n",
       "..                ...       ...              ...                 ...   \n",
       "326  585f9ffdb0cd0466  47024.77              961           374614.20   \n",
       "327  daff32bc96d1eabf  58099.84              963           381754.00   \n",
       "328  e955046551f8c7dd  54678.37              965           385175.47   \n",
       "329  ad23903ef3af7406  50883.22              971           389844.88   \n",
       "330  72c9c2eadfc3277e  44830.51              976           395897.59   \n",
       "\n",
       "     cumulative_return  \n",
       "0                 0.00  \n",
       "1               104.55  \n",
       "2               121.02  \n",
       "3               131.60  \n",
       "4               131.60  \n",
       "..                 ...  \n",
       "326          420638.97  \n",
       "327          438853.84  \n",
       "328          438853.84  \n",
       "329          439728.10  \n",
       "330          439728.10  \n",
       "\n",
       "[331 rows x 5 columns]"
      ]
     },
     "execution_count": 41,
     "metadata": {},
     "output_type": "execute_result"
    }
   ],
   "source": [
    "backtest_actual"
   ]
  },
  {
   "cell_type": "code",
   "execution_count": 42,
   "metadata": {},
   "outputs": [
    {
     "data": {
      "image/png": "[encoded data removed]",
      "text/plain": [
       "<Figure size 1000x400 with 1 Axes>"
      ]
     },
     "metadata": {},
     "output_type": "display_data"
    }
   ],
   "source": [
    "temp = backtest_odds[[\"event_id\", \"date\"]]\n",
    "temp = temp.drop_duplicates()\n",
    "\n",
    "dates = [pd.to_datetime(\"2017-01-01\")]\n",
    "bankroll = [1000]  # Initial bankroll\n",
    "\n",
    "dates += pd.to_datetime(temp[\"date\"]).tolist()\n",
    "bankroll += backtest_actual[\"bankroll\"].tolist()\n",
    "\n",
    "fig, ax = plt.subplots(figsize=(10, 4))\n",
    "ax = sns.lineplot(\n",
    "    x=dates,\n",
    "    y=bankroll,\n",
    "    ax=ax,\n",
    "    # label=\"Observed Bankroll\",\n",
    "    color=\"#2ca02c\",\n",
    "    # marker=\"o\",\n",
    "    linewidth=2,\n",
    "    drawstyle=\"steps-pre\"\n",
    ")\n",
    "ax.set(xlabel=\"Date\", ylabel=\"Bankroll ($)\")\n",
    "ax.axhline(1000, color=\"gray\", linestyle=\"--\", linewidth=2)\n",
    "plt.show()"
   ]
  },
  {
   "cell_type": "code",
   "execution_count": 43,
   "metadata": {},
   "outputs": [
    {
     "data": {
      "text/plain": [
       "43830.51"
      ]
     },
     "execution_count": 43,
     "metadata": {},
     "output_type": "execute_result"
    }
   ],
   "source": [
    "# actual_pnl\n",
    "np.round(actual_pnl, 2)"
   ]
  },
  {
   "cell_type": "code",
   "execution_count": 44,
   "metadata": {},
   "outputs": [
    {
     "name": "stdout",
     "output_type": "stream",
     "text": [
      "Bet Yield: 11.07%\n"
     ]
    }
   ],
   "source": [
    "bet_yield = (backtest_actual[\"cumulative_return\"].iloc[-1] - backtest_actual[\"cumulative_wagered\"].iloc[-1]) / backtest_actual[\"cumulative_wagered\"].iloc[-1] * 100\n",
    "print(f\"Bet Yield: {bet_yield:.2f}%\")"
   ]
  },
  {
   "cell_type": "code",
   "execution_count": 45,
   "metadata": {},
   "outputs": [
    {
     "data": {
      "text/plain": [
       "46.47461381190368"
      ]
     },
     "execution_count": 45,
     "metadata": {},
     "output_type": "execute_result"
    }
   ],
   "source": [
    "def calculate_max_drawdown(values):\n",
    "    \"\"\"\n",
    "    Calculate the maximum drawdown from a list of values.\n",
    "    \n",
    "    Args:\n",
    "        values (list): A list of numeric values (typically prices or portfolio values)\n",
    "        \n",
    "    Returns:\n",
    "        float: The maximum drawdown as a percentage (0 to 1)\n",
    "    \"\"\"\n",
    "    # Handle empty list or list with only one value\n",
    "    if len(values) <= 1:\n",
    "        return 0.0\n",
    "    \n",
    "    max_so_far = values[0]\n",
    "    max_drawdown = 0.0\n",
    "    \n",
    "    for value in values:\n",
    "        # Update maximum value seen so far\n",
    "        if value > max_so_far:\n",
    "            max_so_far = value\n",
    "        \n",
    "        # Calculate current drawdown\n",
    "        current_drawdown = (max_so_far - value) / max_so_far if max_so_far > 0 else 0\n",
    "        \n",
    "        # Update maximum drawdown if current drawdown is greater\n",
    "        max_drawdown = max(max_drawdown, current_drawdown)\n",
    "    \n",
    "    return max_drawdown\n",
    "\n",
    "calculate_max_drawdown(backtest_actual[\"bankroll\"].values) * 100  # Convert to percentage"
   ]
  }
 ],
 "metadata": {
  "kernelspec": {
   "display_name": "thesis",
   "language": "python",
   "name": "python3"
  },
  "language_info": {
   "codemirror_mode": {
    "name": "ipython",
    "version": 3
   },
   "file_extension": ".py",
   "mimetype": "text/x-python",
   "name": "python",
   "nbconvert_exporter": "python",
   "pygments_lexer": "ipython3",
   "version": "3.12.8"
  }
 },
 "nbformat": 4,
 "nbformat_minor": 2
}
