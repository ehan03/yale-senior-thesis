{
 "cells": [
  {
   "cell_type": "code",
   "execution_count": 361,
   "metadata": {},
   "outputs": [],
   "source": [
    "import numpy as np\n",
    "import pandas as pd\n",
    "import matplotlib.pyplot as plt\n",
    "import seaborn as sns\n",
    "\n",
    "sns.set_theme(style=\"darkgrid\", context=\"paper\")"
   ]
  },
  {
   "cell_type": "code",
   "execution_count": 362,
   "metadata": {},
   "outputs": [],
   "source": [
    "backtest_odds = pd.read_csv(\"../../data/backtesting/backtest_odds.csv\")\n",
    "backtest_actual = pd.read_csv(\"../../model_files/lr/backtest_actual_simultaneous_0.1.csv\")\n",
    "backtest_mc = pd.read_csv(\"../../model_files/lr/backtest_mc_simultaneous_0.1.csv\")\n",
    "\n",
    "# backtest_odds = pd.read_csv(\"../../data/backtesting/backtest_odds_case_study.csv\")\n",
    "# backtest_actual = pd.read_csv(\"../../model_files/lr/case_study/backtest_actual_simultaneous_0.1.csv\")\n",
    "# backtest_mc = pd.read_csv(\"../../model_files/lr/case_study/backtest_mc_simultaneous_0.1.csv\")"
   ]
  },
  {
   "cell_type": "code",
   "execution_count": 363,
   "metadata": {},
   "outputs": [
    {
     "data": {
      "image/png": "[encoded data removed]",
      "text/plain": [
       "<Figure size 1000x400 with 1 Axes>"
      ]
     },
     "metadata": {},
     "output_type": "display_data"
    }
   ],
   "source": [
    "fig, ax = plt.subplots(figsize=(10, 4))  # Adjust the figure size as needed\n",
    "simulated_pnl = backtest_mc.drop(columns=[\"event_id\"]).iloc[-1] - 1000\n",
    "# simulated_pnl.hist(bins=100, ax=ax)\n",
    "ax = sns.histplot(\n",
    "    simulated_pnl,\n",
    "    bins=100,\n",
    "    # color=\"blue\",\n",
    "    ax=ax,\n",
    "    stat=\"count\",\n",
    "    label=\"Simulated\",\n",
    "    alpha=0.6\n",
    ")\n",
    "ax.set(xlabel=\"Profit ($)\")\n",
    "\n",
    "actual_pnl = backtest_actual[\"bankroll\"].iloc[-1] - 1000\n",
    "ax.axvline(actual_pnl, color='red', linestyle='dashed', linewidth=2, label=\"Observed\")\n",
    "# ax.axvline(actual_pnl, color='red', linestyle='dashed', linewidth=1)\n",
    "plt.legend()\n",
    "plt.show()"
   ]
  },
  {
   "cell_type": "code",
   "execution_count": 364,
   "metadata": {},
   "outputs": [
    {
     "name": "stdout",
     "output_type": "stream",
     "text": [
      "p-value: 0.0516\n"
     ]
    }
   ],
   "source": [
    "num_geq = np.count_nonzero(simulated_pnl >= actual_pnl)\n",
    "p_value = (num_geq + 1) / (len(simulated_pnl) + 1)\n",
    "adj_p_value = p_value * 12\n",
    "print(f\"p-value: {adj_p_value:.4f}\")"
   ]
  },
  {
   "cell_type": "code",
   "execution_count": 365,
   "metadata": {},
   "outputs": [
    {
     "data": {
      "text/html": [
       "<div>\n",
       "<style scoped>\n",
       "    .dataframe tbody tr th:only-of-type {\n",
       "        vertical-align: middle;\n",
       "    }\n",
       "\n",
       "    .dataframe tbody tr th {\n",
       "        vertical-align: top;\n",
       "    }\n",
       "\n",
       "    .dataframe thead th {\n",
       "        text-align: right;\n",
       "    }\n",
       "</style>\n",
       "<table border=\"1\" class=\"dataframe\">\n",
       "  <thead>\n",
       "    <tr style=\"text-align: right;\">\n",
       "      <th></th>\n",
       "      <th>event_id</th>\n",
       "      <th>bankroll</th>\n",
       "      <th>cumulative_bets</th>\n",
       "      <th>cumulative_wagered</th>\n",
       "      <th>cumulative_return</th>\n",
       "    </tr>\n",
       "  </thead>\n",
       "  <tbody>\n",
       "    <tr>\n",
       "      <th>0</th>\n",
       "      <td>46effbd1135423c5</td>\n",
       "      <td>992.98</td>\n",
       "      <td>4</td>\n",
       "      <td>13.59</td>\n",
       "      <td>6.57</td>\n",
       "    </tr>\n",
       "    <tr>\n",
       "      <th>1</th>\n",
       "      <td>4512e46543b960ad</td>\n",
       "      <td>951.78</td>\n",
       "      <td>8</td>\n",
       "      <td>54.79</td>\n",
       "      <td>6.57</td>\n",
       "    </tr>\n",
       "    <tr>\n",
       "      <th>2</th>\n",
       "      <td>6a8a06b542e1516d</td>\n",
       "      <td>930.38</td>\n",
       "      <td>12</td>\n",
       "      <td>85.79</td>\n",
       "      <td>16.17</td>\n",
       "    </tr>\n",
       "    <tr>\n",
       "      <th>3</th>\n",
       "      <td>865aa315ea62c511</td>\n",
       "      <td>894.00</td>\n",
       "      <td>16</td>\n",
       "      <td>122.17</td>\n",
       "      <td>16.17</td>\n",
       "    </tr>\n",
       "    <tr>\n",
       "      <th>4</th>\n",
       "      <td>b4ad3a06ee4d660c</td>\n",
       "      <td>886.10</td>\n",
       "      <td>18</td>\n",
       "      <td>130.07</td>\n",
       "      <td>16.17</td>\n",
       "    </tr>\n",
       "    <tr>\n",
       "      <th>...</th>\n",
       "      <td>...</td>\n",
       "      <td>...</td>\n",
       "      <td>...</td>\n",
       "      <td>...</td>\n",
       "      <td>...</td>\n",
       "    </tr>\n",
       "    <tr>\n",
       "      <th>326</th>\n",
       "      <td>585f9ffdb0cd0466</td>\n",
       "      <td>2308.33</td>\n",
       "      <td>1154</td>\n",
       "      <td>20182.55</td>\n",
       "      <td>21490.88</td>\n",
       "    </tr>\n",
       "    <tr>\n",
       "      <th>327</th>\n",
       "      <td>daff32bc96d1eabf</td>\n",
       "      <td>2420.53</td>\n",
       "      <td>1160</td>\n",
       "      <td>20279.49</td>\n",
       "      <td>21700.02</td>\n",
       "    </tr>\n",
       "    <tr>\n",
       "      <th>328</th>\n",
       "      <td>e955046551f8c7dd</td>\n",
       "      <td>2304.36</td>\n",
       "      <td>1168</td>\n",
       "      <td>20475.29</td>\n",
       "      <td>21779.65</td>\n",
       "    </tr>\n",
       "    <tr>\n",
       "      <th>329</th>\n",
       "      <td>ad23903ef3af7406</td>\n",
       "      <td>2304.36</td>\n",
       "      <td>1168</td>\n",
       "      <td>20475.29</td>\n",
       "      <td>21779.65</td>\n",
       "    </tr>\n",
       "    <tr>\n",
       "      <th>330</th>\n",
       "      <td>72c9c2eadfc3277e</td>\n",
       "      <td>2318.98</td>\n",
       "      <td>1178</td>\n",
       "      <td>20617.43</td>\n",
       "      <td>21936.41</td>\n",
       "    </tr>\n",
       "  </tbody>\n",
       "</table>\n",
       "<p>331 rows × 5 columns</p>\n",
       "</div>"
      ],
      "text/plain": [
       "             event_id  bankroll  cumulative_bets  cumulative_wagered  \\\n",
       "0    46effbd1135423c5    992.98                4               13.59   \n",
       "1    4512e46543b960ad    951.78                8               54.79   \n",
       "2    6a8a06b542e1516d    930.38               12               85.79   \n",
       "3    865aa315ea62c511    894.00               16              122.17   \n",
       "4    b4ad3a06ee4d660c    886.10               18              130.07   \n",
       "..                ...       ...              ...                 ...   \n",
       "326  585f9ffdb0cd0466   2308.33             1154            20182.55   \n",
       "327  daff32bc96d1eabf   2420.53             1160            20279.49   \n",
       "328  e955046551f8c7dd   2304.36             1168            20475.29   \n",
       "329  ad23903ef3af7406   2304.36             1168            20475.29   \n",
       "330  72c9c2eadfc3277e   2318.98             1178            20617.43   \n",
       "\n",
       "     cumulative_return  \n",
       "0                 6.57  \n",
       "1                 6.57  \n",
       "2                16.17  \n",
       "3                16.17  \n",
       "4                16.17  \n",
       "..                 ...  \n",
       "326           21490.88  \n",
       "327           21700.02  \n",
       "328           21779.65  \n",
       "329           21779.65  \n",
       "330           21936.41  \n",
       "\n",
       "[331 rows x 5 columns]"
      ]
     },
     "execution_count": 365,
     "metadata": {},
     "output_type": "execute_result"
    }
   ],
   "source": [
    "backtest_actual"
   ]
  },
  {
   "cell_type": "code",
   "execution_count": 366,
   "metadata": {},
   "outputs": [
    {
     "data": {
      "image/png": "[encoded data removed]",
      "text/plain": [
       "<Figure size 1000x400 with 1 Axes>"
      ]
     },
     "metadata": {},
     "output_type": "display_data"
    }
   ],
   "source": [
    "temp = backtest_odds[[\"event_id\", \"date\"]]\n",
    "temp = temp.drop_duplicates()\n",
    "\n",
    "dates = [pd.to_datetime(\"2017-01-01\")]\n",
    "bankroll = [1000]  # Initial bankroll\n",
    "\n",
    "dates += pd.to_datetime(temp[\"date\"]).tolist()\n",
    "bankroll += backtest_actual[\"bankroll\"].tolist()\n",
    "\n",
    "fig, ax = plt.subplots(figsize=(10, 4))\n",
    "ax = sns.lineplot(\n",
    "    x=dates,\n",
    "    y=bankroll,\n",
    "    ax=ax,\n",
    "    # label=\"Observed Bankroll\",\n",
    "    color=\"#2ca02c\",\n",
    "    # marker=\"o\",\n",
    "    linewidth=2,\n",
    "    drawstyle=\"steps-pre\"\n",
    ")\n",
    "ax.set(xlabel=\"Date\", ylabel=\"Bankroll ($)\")\n",
    "ax.axhline(1000, color=\"gray\", linestyle=\"--\", linewidth=2)\n",
    "plt.show()"
   ]
  },
  {
   "cell_type": "code",
   "execution_count": 367,
   "metadata": {},
   "outputs": [
    {
     "data": {
      "text/plain": [
       "1318.98"
      ]
     },
     "execution_count": 367,
     "metadata": {},
     "output_type": "execute_result"
    }
   ],
   "source": [
    "# actual_pnl\n",
    "np.round(actual_pnl, 2)"
   ]
  },
  {
   "cell_type": "code",
   "execution_count": 368,
   "metadata": {},
   "outputs": [
    {
     "name": "stdout",
     "output_type": "stream",
     "text": [
      "Bet Yield: 6.40%\n"
     ]
    }
   ],
   "source": [
    "bet_yield = (backtest_actual[\"cumulative_return\"].iloc[-1] - backtest_actual[\"cumulative_wagered\"].iloc[-1]) / backtest_actual[\"cumulative_wagered\"].iloc[-1] * 100\n",
    "print(f\"Bet Yield: {bet_yield:.2f}%\")"
   ]
  },
  {
   "cell_type": "code",
   "execution_count": 369,
   "metadata": {},
   "outputs": [
    {
     "data": {
      "text/plain": [
       "22.03938020163746"
      ]
     },
     "execution_count": 369,
     "metadata": {},
     "output_type": "execute_result"
    }
   ],
   "source": [
    "def calculate_max_drawdown(values):\n",
    "    \"\"\"\n",
    "    Calculate the maximum drawdown from a list of values.\n",
    "    \n",
    "    Args:\n",
    "        values (list): A list of numeric values (typically prices or portfolio values)\n",
    "        \n",
    "    Returns:\n",
    "        float: The maximum drawdown as a percentage (0 to 1)\n",
    "    \"\"\"\n",
    "    # Handle empty list or list with only one value\n",
    "    if len(values) <= 1:\n",
    "        return 0.0\n",
    "    \n",
    "    max_so_far = values[0]\n",
    "    max_drawdown = 0.0\n",
    "    \n",
    "    for value in values:\n",
    "        # Update maximum value seen so far\n",
    "        if value > max_so_far:\n",
    "            max_so_far = value\n",
    "        \n",
    "        # Calculate current drawdown\n",
    "        current_drawdown = (max_so_far - value) / max_so_far if max_so_far > 0 else 0\n",
    "        \n",
    "        # Update maximum drawdown if current drawdown is greater\n",
    "        max_drawdown = max(max_drawdown, current_drawdown)\n",
    "    \n",
    "    return max_drawdown\n",
    "\n",
    "calculate_max_drawdown(backtest_actual[\"bankroll\"].values) * 100  # Convert to percentage"
   ]
  }
 ],
 "metadata": {
  "kernelspec": {
   "display_name": "thesis",
   "language": "python",
   "name": "python3"
  },
  "language_info": {
   "codemirror_mode": {
    "name": "ipython",
    "version": 3
   },
   "file_extension": ".py",
   "mimetype": "text/x-python",
   "name": "python",
   "nbconvert_exporter": "python",
   "pygments_lexer": "ipython3",
   "version": "3.12.8"
  }
 },
 "nbformat": 4,
 "nbformat_minor": 2
}
