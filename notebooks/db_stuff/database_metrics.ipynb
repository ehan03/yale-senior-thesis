{
 "cells": [
  {
   "cell_type": "code",
   "execution_count": 2,
   "metadata": {},
   "outputs": [],
   "source": [
    "import os\n",
    "\n",
    "import numpy as np\n",
    "import pandas as pd\n",
    "from sqlalchemy import create_engine\n",
    "\n",
    "db_path = os.path.join(os.path.dirname(\"__file__\"), \"..\", \"..\", \"data\", \"ufc.db\")\n",
    "engine = create_engine(f\"sqlite:///{db_path}\")"
   ]
  },
  {
   "cell_type": "code",
   "execution_count": 5,
   "metadata": {},
   "outputs": [
    {
     "name": "stdout",
     "output_type": "stream",
     "text": [
      "Total rows: 6897287\n",
      "Total data points: 64699864\n"
     ]
    }
   ],
   "source": [
    "tables = [\n",
    "    \"BOUT_MAPPING\", \"EVENT_MAPPING\", \"FIGHTER_MAPPING\", \n",
    "    \"bestfightodds_bout_proposition_odds\", \"bestfightodds_event_proposition_odds\", \"bestfightodds_events\", \"bestfightodds_fighters\", \"bestfightodds_moneyline_odds\",\n",
    "    \"betmma_bouts\", \"betmma_events\", \"betmma_fighter_histories\", \"betmma_fighters\", \"betmma_late_replacements\", \"betmma_missed_weights\",\n",
    "    \"espn_bout_stats\", \"espn_bouts\", \"espn_events\", \"espn_fighter_histories\", \"espn_fighters\", \"espn_teams\", \"espn_venues\",\n",
    "    \"fightmatrix_bouts\", \"fightmatrix_events\", \"fightmatrix_fighter_histories\", \"fightmatrix_fighters\", \"fightmatrix_rankings\",\n",
    "    \"fightoddsio_bouts\", \"fightoddsio_events\", \"fightoddsio_fighters\", \"fightoddsio_moneyline_odds\", \"fightoddsio_proposition_odds\", \"fightoddsio_sportsbooks\",\n",
    "    \"mmadecisions_bouts\", \"mmadecisions_deductions\", \"mmadecisions_events\", \"mmadecisions_fighters\", \"mmadecisions_judge_scores\", \"mmadecisions_judges\", \"mmadecisions_media_scores\",\n",
    "    \"sherdog_bouts\", \"sherdog_events\", \"sherdog_fighter_histories\", \"sherdog_fighters\", \n",
    "    \"tapology_bouts\", \"tapology_community_picks\", \"tapology_events\", \"tapology_fighter_gyms\", \"tapology_fighter_histories\", \"tapology_fighters\", \"tapology_gyms\", \"tapology_rehydration_weights\",\n",
    "    \"ufcstats_bouts\", \"ufcstats_events\", \"ufcstats_fighter_histories\", \"ufcstats_fighters\", \"ufcstats_round_stats\", \n",
    "    \"wikipedia_events\", \"wikipedia_venues\",\n",
    "]\n",
    "\n",
    "rows = 0\n",
    "data_points = 0\n",
    "for table in tables:\n",
    "    query = f\"SELECT * FROM {table}\"\n",
    "    df = pd.read_sql_query(query, engine)\n",
    "    rows += df.shape[0]\n",
    "    data_points += df.size\n",
    "\n",
    "print(f\"Total rows: {rows}\")\n",
    "print(f\"Total data points: {data_points}\")"
   ]
  }
 ],
 "metadata": {
  "kernelspec": {
   "display_name": "thesis",
   "language": "python",
   "name": "python3"
  },
  "language_info": {
   "codemirror_mode": {
    "name": "ipython",
    "version": 3
   },
   "file_extension": ".py",
   "mimetype": "text/x-python",
   "name": "python",
   "nbconvert_exporter": "python",
   "pygments_lexer": "ipython3",
   "version": "3.12.8"
  }
 },
 "nbformat": 4,
 "nbformat_minor": 2
}
