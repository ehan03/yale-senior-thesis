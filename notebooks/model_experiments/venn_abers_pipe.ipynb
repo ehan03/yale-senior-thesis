{
 "cells": [
  {
   "cell_type": "code",
   "execution_count": 1,
   "metadata": {},
   "outputs": [],
   "source": [
    "# from venn_abers import VennAbersCV\n",
    "import sys\n",
    "sys.path.append('../../')\n",
    "from src.modeling.venn_abers import VennAbersCV\n",
    "\n",
    "from sklearn.datasets import load_breast_cancer\n",
    "from sklearn.pipeline import Pipeline\n",
    "from sklearn.preprocessing import StandardScaler\n",
    "from sklearn.linear_model import LogisticRegression\n",
    "from sklearn.feature_selection import SelectKBest, VarianceThreshold\n",
    "from sklearn.model_selection import train_test_split"
   ]
  },
  {
   "cell_type": "code",
   "execution_count": 2,
   "metadata": {},
   "outputs": [],
   "source": [
    "estimator = Pipeline(\n",
    "    steps=[\n",
    "        (\"scaler\", StandardScaler()),\n",
    "        (\"model\", LogisticRegression(max_iter=1000)),\n",
    "    ]\n",
    ")\n",
    "\n",
    "clf = Pipeline(\n",
    "    steps=[\n",
    "        (\"selector\", VarianceThreshold(threshold=0.1)),\n",
    "        (\"estimator\", VennAbersCV(estimator=estimator, n_splits=10, shuffle=True, random_state=42)),\n",
    "    ]\n",
    ")\n",
    "\n",
    "X, y = load_breast_cancer(return_X_y=True)\n",
    "X_train, X_test, y_train, y_test = train_test_split(X, y, test_size=0.2, random_state=42)\n",
    "\n",
    "clf.fit(X_train, y_train)\n",
    "probs, p0_p1 = clf.predict_proba(X_test, p0_p1_output=True)"
   ]
  },
  {
   "cell_type": "code",
   "execution_count": 3,
   "metadata": {},
   "outputs": [
    {
     "data": {
      "text/plain": [
       "array([[0.71398834, 0.98470314],\n",
       "       [0.        , 0.08040551],\n",
       "       [0.        , 0.19021377],\n",
       "       [0.93077152, 1.        ],\n",
       "       [0.95395785, 1.        ],\n",
       "       [0.        , 0.07058549],\n",
       "       [0.        , 0.06856994],\n",
       "       [0.        , 0.18798651],\n",
       "       [0.86095234, 0.9926166 ],\n",
       "       [0.8320527 , 0.9926166 ],\n",
       "       [0.61141766, 0.98470314],\n",
       "       [0.        , 0.16808118],\n",
       "       [0.80068956, 0.98470314],\n",
       "       [0.24370276, 0.67932865],\n",
       "       [0.9298409 , 1.        ],\n",
       "       [0.        , 0.15458163],\n",
       "       [0.9083347 , 0.9926166 ],\n",
       "       [0.95734237, 1.        ],\n",
       "       [0.95900784, 1.        ],\n",
       "       [0.        , 0.09678201],\n",
       "       [0.55363611, 0.98470314],\n",
       "       [0.91019286, 0.9926166 ],\n",
       "       [0.        , 0.08096217],\n",
       "       [0.93645241, 1.        ],\n",
       "       [0.90596568, 0.9926166 ],\n",
       "       [0.94644241, 1.        ],\n",
       "       [0.92453249, 0.9926166 ],\n",
       "       [0.93733675, 1.        ],\n",
       "       [0.90596568, 0.9926166 ],\n",
       "       [0.        , 0.08552756],\n",
       "       [0.92696538, 1.        ],\n",
       "       [0.93995909, 1.        ],\n",
       "       [0.92738165, 1.        ],\n",
       "       [0.8320527 , 0.9926166 ],\n",
       "       [0.94971315, 1.        ],\n",
       "       [0.92823195, 1.        ],\n",
       "       [0.        , 0.16808118],\n",
       "       [0.92145629, 0.9926166 ],\n",
       "       [0.        , 0.11379253],\n",
       "       [0.39288877, 0.72808642],\n",
       "       [0.948029  , 1.        ],\n",
       "       [0.        , 0.15958356],\n",
       "       [0.93807559, 1.        ],\n",
       "       [0.90596568, 0.9926166 ],\n",
       "       [0.95013216, 1.        ],\n",
       "       [0.82679422, 0.9926166 ],\n",
       "       [0.95436617, 1.        ],\n",
       "       [0.93612562, 1.        ],\n",
       "       [0.7980103 , 0.98470314],\n",
       "       [0.93202173, 1.        ],\n",
       "       [0.        , 0.12730915],\n",
       "       [0.        , 0.07981185],\n",
       "       [0.65184637, 0.98470314],\n",
       "       [0.94971315, 1.        ],\n",
       "       [0.9298409 , 1.        ],\n",
       "       [0.84144305, 0.9926166 ],\n",
       "       [0.95415338, 1.        ],\n",
       "       [0.        , 0.06669466],\n",
       "       [0.50749592, 0.88127877],\n",
       "       [0.95128931, 1.        ],\n",
       "       [0.86787688, 0.9926166 ],\n",
       "       [0.        , 0.09866185],\n",
       "       [0.        , 0.07427879],\n",
       "       [0.42149537, 0.75821445],\n",
       "       [0.91019286, 0.9926166 ],\n",
       "       [0.68654317, 0.98470314],\n",
       "       [0.        , 0.1288175 ],\n",
       "       [0.        , 0.07427879],\n",
       "       [0.94192726, 1.        ],\n",
       "       [0.82036182, 0.9926166 ],\n",
       "       [0.        , 0.20156872],\n",
       "       [0.        , 0.1288175 ],\n",
       "       [0.91174219, 0.9926166 ],\n",
       "       [0.0397355 , 0.38901195],\n",
       "       [0.9403013 , 1.        ],\n",
       "       [0.92498862, 0.9926166 ],\n",
       "       [0.64815881, 0.98470314],\n",
       "       [0.47554291, 0.75821445],\n",
       "       [0.94751816, 1.        ],\n",
       "       [0.92861893, 1.        ],\n",
       "       [0.        , 0.1625198 ],\n",
       "       [0.93029224, 1.        ],\n",
       "       [0.415368  , 0.72808642],\n",
       "       [0.        , 0.07548526],\n",
       "       [0.        , 0.1288175 ],\n",
       "       [0.        , 0.33918832],\n",
       "       [0.        , 0.22947604],\n",
       "       [0.        , 0.10498623],\n",
       "       [0.91378511, 0.9926166 ],\n",
       "       [0.91174219, 0.9926166 ],\n",
       "       [0.90131   , 0.9926166 ],\n",
       "       [0.65184637, 0.98470314],\n",
       "       [0.65952915, 0.98470314],\n",
       "       [0.94544429, 1.        ],\n",
       "       [0.94729432, 1.        ],\n",
       "       [0.94923157, 1.        ],\n",
       "       [0.        , 0.0837243 ],\n",
       "       [0.        , 0.09678201],\n",
       "       [0.95358664, 1.        ],\n",
       "       [0.        , 0.12730915],\n",
       "       [0.        , 0.1320959 ],\n",
       "       [0.95734237, 1.        ],\n",
       "       [0.        , 0.09678201],\n",
       "       [0.        , 0.17775544],\n",
       "       [0.77053734, 0.98470314],\n",
       "       [0.78351279, 0.98470314],\n",
       "       [0.89722624, 0.9926166 ],\n",
       "       [0.        , 0.06507131],\n",
       "       [0.78351279, 0.98470314],\n",
       "       [0.51639396, 0.98470314],\n",
       "       [0.        , 0.14593859],\n",
       "       [0.93535266, 1.        ],\n",
       "       [0.17682875, 0.46010427],\n",
       "       [0.        , 0.06362856]])"
      ]
     },
     "execution_count": 3,
     "metadata": {},
     "output_type": "execute_result"
    }
   ],
   "source": [
    "p0_p1"
   ]
  },
  {
   "cell_type": "code",
   "execution_count": 4,
   "metadata": {},
   "outputs": [],
   "source": [
    "y_pred = probs[:, 1]"
   ]
  },
  {
   "cell_type": "code",
   "execution_count": 5,
   "metadata": {},
   "outputs": [
    {
     "data": {
      "text/plain": [
       "True"
      ]
     },
     "execution_count": 5,
     "metadata": {},
     "output_type": "execute_result"
    }
   ],
   "source": [
    "(y_pred <= p0_p1[:, 1]).all()"
   ]
  },
  {
   "cell_type": "code",
   "execution_count": 6,
   "metadata": {},
   "outputs": [
    {
     "data": {
      "text/plain": [
       "True"
      ]
     },
     "execution_count": 6,
     "metadata": {},
     "output_type": "execute_result"
    }
   ],
   "source": [
    "(y_pred >= p0_p1[:, 0]).all()"
   ]
  }
 ],
 "metadata": {
  "kernelspec": {
   "display_name": "thesis",
   "language": "python",
   "name": "python3"
  },
  "language_info": {
   "codemirror_mode": {
    "name": "ipython",
    "version": 3
   },
   "file_extension": ".py",
   "mimetype": "text/x-python",
   "name": "python",
   "nbconvert_exporter": "python",
   "pygments_lexer": "ipython3",
   "version": "3.12.8"
  }
 },
 "nbformat": 4,
 "nbformat_minor": 2
}
